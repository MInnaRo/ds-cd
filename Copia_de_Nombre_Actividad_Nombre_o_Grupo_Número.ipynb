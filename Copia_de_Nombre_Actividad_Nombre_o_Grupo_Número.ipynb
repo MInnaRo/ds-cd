{
  "nbformat": 4,
  "nbformat_minor": 0,
  "metadata": {
    "colab": {
      "provenance": [],
      "toc_visible": true,
      "include_colab_link": true
    },
    "kernelspec": {
      "name": "python3",
      "display_name": "Python 3"
    },
    "language_info": {
      "name": "python"
    }
  },
  "cells": [
    {
      "cell_type": "markdown",
      "metadata": {
        "id": "view-in-github",
        "colab_type": "text"
      },
      "source": [
        "<a href=\"https://colab.research.google.com/github/MInnaRo/ds-cd/blob/proyecto/Copia_de_Nombre_Actividad_Nombre_o_Grupo_N%C3%BAmero.ipynb\" target=\"_parent\"><img src=\"https://colab.research.google.com/assets/colab-badge.svg\" alt=\"Open In Colab\"/></a>"
      ]
    },
    {
      "cell_type": "markdown",
      "source": [
        "\n",
        "\n",
        "---\n",
        "\n",
        "\n",
        "# **Este texto debe ser borrado**\n",
        "\n",
        "Hola a todos, he creado esta plantilla para uso del curso, les pido que por favor llenen de manera correcta cada espacio del Colab, Desde el nombre del archivo con el nombre de la actividad, su nombre y apellido, o si es grupo el número que eligieron.\n",
        "Dentro su nombre alumno:\n",
        "\n",
        "O su Grupo.\n",
        "\n",
        "Pueden modificar todo dentro, colocar listas, líneas, lo que necesiten para entregar un notebook que les pueda guiar de necesitarlo, ya que todo lo que hacen en otro punto de la carrera les servirán.\n",
        "\n",
        "Mucho ánimo y lo que necesiten, sus profesores están para apoyarlos.\n",
        "\n",
        "\n",
        "---\n",
        "\n"
      ],
      "metadata": {
        "id": "eLRAT8GIjxjJ"
      }
    },
    {
      "cell_type": "markdown",
      "source": [
        "# MÓDULO: FUNDAMENTOS DE PROGRAMACIÓN EN PYTHON\n",
        "\n",
        "- Nombre alumno:\n",
        "\n",
        "o (borrar el que no usen...)\n",
        "\n",
        "- Integrantes del grupo:"
      ],
      "metadata": {
        "id": "aUGEJhCF7mDG"
      }
    },
    {
      "cell_type": "markdown",
      "source": [
        "##Actividades"
      ],
      "metadata": {
        "id": "RnUqe6-28OBY"
      }
    },
    {
      "cell_type": "markdown",
      "source": [
        "###Ejercicio 1:\n",
        "Escribe una función llamada cuadrado que tome un número como\n",
        "argumento y devuelva su cuadrado"
      ],
      "metadata": {
        "id": "MqmRR3Wo9gK2"
      }
    },
    {
      "cell_type": "code",
      "source": [],
      "metadata": {
        "id": "VoQfgg8V9eb2"
      },
      "execution_count": null,
      "outputs": []
    },
    {
      "cell_type": "markdown",
      "source": [
        "###Ejercicio 2:\n",
        "Crear una función llamada factorial, que implemente la función\n",
        "factorial descrita en la actividad anterior."
      ],
      "metadata": {
        "id": "idpF2Lr_86I-"
      }
    },
    {
      "cell_type": "code",
      "execution_count": null,
      "metadata": {
        "id": "A9ZO8ASd7hqy"
      },
      "outputs": [],
      "source": []
    },
    {
      "cell_type": "markdown",
      "source": [
        "###Ejercicio 3:\n",
        "Utiliza el módulo math para calcular el área de un círculo. Crea una\n",
        "función area_circulo que tome el radio como argumento y devuelva el\n",
        "área."
      ],
      "metadata": {
        "id": "isui3smR85Sw"
      }
    },
    {
      "cell_type": "code",
      "source": [],
      "metadata": {
        "id": "8y6aZilf-Nn2"
      },
      "execution_count": null,
      "outputs": []
    },
    {
      "cell_type": "markdown",
      "source": [
        "###Ejercicio 4:\n",
        "Escriba una función llamada bisiestos, que pida dos años y escriba\n",
        "cuántos años bisiestos hay entre esas dos fechas"
      ],
      "metadata": {
        "id": "Typy1OJxNXev"
      }
    },
    {
      "cell_type": "code",
      "source": [],
      "metadata": {
        "id": "8VbOOoodNI3r"
      },
      "execution_count": null,
      "outputs": []
    },
    {
      "cell_type": "markdown",
      "source": [
        "###Ejercicio 5:\n",
        "Escribe una función llamada sumatoria que calcule la suma de todos\n",
        "los números desde 1 hasta un número dado."
      ],
      "metadata": {
        "id": "iStPhJ0POIpf"
      }
    },
    {
      "cell_type": "code",
      "source": [],
      "metadata": {
        "id": "OI_WlKPQOIp4"
      },
      "execution_count": null,
      "outputs": []
    }
  ]
}