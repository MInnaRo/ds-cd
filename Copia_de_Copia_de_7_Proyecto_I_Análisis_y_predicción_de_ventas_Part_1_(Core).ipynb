{
  "nbformat": 4,
  "nbformat_minor": 0,
  "metadata": {
    "colab": {
      "provenance": [],
      "collapsed_sections": [
        "gZhdTDYLv4xQ"
      ],
      "toc_visible": true,
      "include_colab_link": true
    },
    "kernelspec": {
      "name": "python3",
      "display_name": "Python 3"
    },
    "language_info": {
      "name": "python"
    }
  },
  "cells": [
    {
      "cell_type": "markdown",
      "metadata": {
        "id": "view-in-github",
        "colab_type": "text"
      },
      "source": [
        "<a href=\"https://colab.research.google.com/github/MInnaRo/ds-cd/blob/proyecto/Copia_de_Copia_de_7_Proyecto_I_An%C3%A1lisis_y_predicci%C3%B3n_de_ventas_Part_1_(Core).ipynb\" target=\"_parent\"><img src=\"https://colab.research.google.com/assets/colab-badge.svg\" alt=\"Open In Colab\"/></a>"
      ]
    },
    {
      "cell_type": "markdown",
      "source": [
        "#Análisis y Predicción de Ventas en una Tienda de Retail (Core)"
      ],
      "metadata": {
        "id": "gZhdTDYLv4xQ"
      }
    },
    {
      "cell_type": "markdown",
      "source": [
        "* Introducción al Proyecto\n",
        "\n",
        "En este proyecto de curso, desarrollaremos un análisis integral de un conjunto de datos de ventas de una tienda de retail. El objetivo es que los estudiantes apliquen lo aprendido en las diferentes secciones del curso, desde la manipulación básica de datos con NumPy, pasando por el análisis y visualización de datos con Pandas, hasta el uso de técnicas de machine learning para realizar predicciones. Este proyecto será una excelente adición al portafolio de los estudiantes y les permitirá demostrar su competencia en varias áreas clave de la ciencia de datos.\n",
        "\n",
        "* Dataset\n",
        "\n",
        "Para este proyecto, utilizaremos un dataset reciente de Kaggle titulado «Retail Sales Dataset» (2023-2024). Este dataset contiene información detallada sobre las ventas diarias de diferentes productos en varias tiendas. Puedes descargar el dataset desde Kaggle."
      ],
      "metadata": {
        "id": "oFrxFrdev8PD"
      }
    },
    {
      "cell_type": "markdown",
      "source": [
        "#Parte 1: Análisis Básico con NumPy"
      ],
      "metadata": {
        "id": "nNPLsIOkC-66"
      }
    },
    {
      "cell_type": "markdown",
      "source": [
        "En esta primera parte del proyecto, los estudiantes realizarán un análisis preliminar del dataset utilizando NumPy. El objetivo es familiarizarse con los datos y realizar operaciones básicas de manipulación y análisis.\n",
        "\n",
        "* Instrucciones:\n",
        "\n",
        "1. Configuración Inicial del Proyecto:\n",
        "* Crea un repositorio en GitHub para tu proyecto.\n",
        "* Configura dos ramas en tu repositorio: main y development.\n",
        "* Agrega un archivo README.md con una descripción del proyecto, instrucciones de instalación y uso.\n",
        "2. Carga y Preprocesamiento de Datos:\n",
        "* Carga los datos del archivo CSV utilizando NumPy.\n",
        "* Realiza un preprocesamiento básico para asegurarte de que los datos estén limpios y listos para su análisis.\n",
        "3. Exploración de Datos:\n",
        "* Calcula el total de ventas por producto y por tienda.\n",
        "* Calcula el promedio de ventas diarias por producto y por tienda.\n",
        "* Identifica los productos y tiendas con mayores y menores ventas.\n",
        "4. Manipulación de Datos:\n",
        "* Filtra los datos para mostrar solo las ventas de un producto específico.\n",
        "* Filtra los datos para mostrar solo las ventas de una tienda específica.\n",
        "* Realiza operaciones de suma, resta, multiplicación y división en los datos para obtener estadísticas adicionales."
      ],
      "metadata": {
        "id": "REbnrvtUwEsT"
      }
    },
    {
      "cell_type": "markdown",
      "source": [
        "## 1. Configuración Inicial del Proyecto en GitHub"
      ],
      "metadata": {
        "id": "4Kru1oSzCkFR"
      }
    },
    {
      "cell_type": "markdown",
      "source": [
        "- Guía Paso a Paso:\n",
        " * Crear un Repositorio en GitHub:\n",
        "   * Ve a GitHub y crea un nuevo repositorio.\n",
        "   * Nombra el repositorio, por ejemplo, retail-sales-analysis.\n",
        "* Clonar el Repositorio a tu Máquina Local:\n",
        "  * Abre tu terminal y clona el repositorio:\n",
        "\n",
        "- `git clone` https://github.com/tu_usuario/retail-sales-analysis.git\n",
        "- `cd retail-sales-analysis`\n",
        "\n",
        "* Crear Ramas main y development:\n",
        "  * Asegúrate de estar en la rama main:\n",
        "`git checkout main`\n",
        "  * Crea y cambia a la rama development:\n",
        "`git checkout -b development`\n",
        "* Agregar un Archivo README.md:\n",
        "  * Crea un archivo README.md con la siguiente estructura:\n",
        "`# Retail Sales Analysis`\n",
        "\n",
        "Este proyecto analiza y predice las ventas de una tienda de retail utilizando técnicas de ciencia de datos.\n",
        "\n",
        "* Estructura del Proyecto\n",
        "\n",
        "- `data/`: Contiene los archivos de datos.\n",
        "- `notebooks/`: Contiene los notebooks de Jupyter para el análisis.\n",
        "- `src/`: Contiene el código fuente del proyecto.\n",
        "- `README.md`: Este archivo.\n",
        "\n",
        "* Instrucciones de Instalación\n",
        "\n",
        "1. Clona el repositorio: `git clone https://github.com/tu_usuario/retail-sales-analysis.git`\n",
        "2. Instala las dependencias: `pip install -r requirements.txt`\n",
        "\n",
        "* Uso\n",
        "\n",
        "Ejecuta los notebooks de Jupyter en la carpeta `notebooks` para realizar el análisis de los datos.\n",
        "* Hacer un Commit y Push de los Cambios:\n",
        "  * Agrega y comitea los cambios:\n",
        "`git add README.md`\n",
        "`git commit -m \"Add README.md\"`"
      ],
      "metadata": {
        "id": "HXgbYJ5Uwhtb"
      }
    },
    {
      "cell_type": "markdown",
      "source": [
        "* HINT. Carga de datos con Numpy"
      ],
      "metadata": {
        "id": "zKYhfWlix0p3"
      }
    },
    {
      "cell_type": "code",
      "source": [
        "import numpy as np\n",
        "\n",
        "def cargar_datos(ruta_archivo):\n",
        "    # Carga los datos del archivo CSV utilizando NumPy\n",
        "    datos = np.genfromtxt(ruta_archivo, delimiter=',', skip_header=1)\n",
        "    return datos\n",
        "\n",
        "if __name__ == \"__main__\":\n",
        "    ruta_archivo = '../data/retail_sales.csv'\n",
        "    datos = cargar_datos(ruta_archivo)\n",
        "    print(datos)"
      ],
      "metadata": {
        "id": "fkiocPUuyZSm"
      },
      "execution_count": null,
      "outputs": []
    },
    {
      "cell_type": "markdown",
      "source": [
        "# Acerca de este archivo"
      ],
      "metadata": {
        "id": "u9kLo2XVC3tX"
      }
    },
    {
      "cell_type": "markdown",
      "source": [
        "\n",
        "\n",
        "Agregar sugerencia\n",
        "1. **Transaction ID** texto en negrita: un identificador único para cada transacción, que permite el seguimiento y la referencia.\n",
        "\n",
        "2. **Date**: la fecha en que se realizó la transacción, que proporciona información sobre las tendencias de ventas a lo largo del tiempo.\n",
        "\n",
        "3. **Customer ID**: un identificador único para cada cliente, que permite un análisis centrado en el cliente.\n",
        "\n",
        "4. **Gender**: El género del cliente (hombre/mujer), que ofrece información sobre patrones de compra basados ​​en el género.\n",
        "\n",
        "5. **Age**: La edad del cliente, lo que facilita la segmentación y la exploración de influencias relacionadas con la edad.\n",
        "\n",
        "6. **Product Category**: La categoría del producto adquirido (por ejemplo, Electrónica, Ropa, Belleza), que ayuda a comprender las preferencias de productos.\n",
        "\n",
        "7. **Quantity**: Número de unidades del producto compradas, lo que contribuye a obtener información sobre los volúmenes de compra.\n",
        "\n",
        "8. **Price per Unit:**: El precio de una unidad del producto, que ayuda en los cálculos relacionados con el gasto total.\n",
        "\n",
        "9. **Total Amount**: el valor monetario total de la transacción, que muestra el impacto financiero de cada compra.\n",
        "\n",
        "Cada columna de este conjunto de datos desempeña un papel fundamental a la hora de desentrañar la dinámica de las operaciones minoristas y el comportamiento de los clientes. Al explorar y analizar estos atributos, descubrirá tendencias, patrones y correlaciones que arrojarán luz sobre la compleja interacción entre los clientes y los productos en un entorno minorista. ¡Disfrute del análisis!"
      ],
      "metadata": {
        "id": "wYpn3jx60CbA"
      }
    },
    {
      "cell_type": "markdown",
      "source": [
        "##Carga y Preprocesamiento de Datos:\n",
        "* Carga los datos del archivo CSV utilizando NumPy.\n",
        "* Realiza un preprocesamiento básico para asegurarte de que los datos estén limpios y listos para su análisis."
      ],
      "metadata": {
        "id": "3kabMk_QBLs5"
      }
    },
    {
      "cell_type": "markdown",
      "source": [
        "####Carga los datos del archivo CSV utilizando NumPy."
      ],
      "metadata": {
        "id": "Hd59heKMBlgc"
      }
    },
    {
      "cell_type": "code",
      "source": [
        "#carga de librerías\n"
      ],
      "metadata": {
        "id": "mg5rN0qzycFs"
      },
      "execution_count": null,
      "outputs": []
    },
    {
      "cell_type": "code",
      "source": [
        "#carga de archivo\n"
      ],
      "metadata": {
        "id": "YlpgyNm6088F"
      },
      "execution_count": null,
      "outputs": []
    },
    {
      "cell_type": "code",
      "source": [
        "#verificamos si se cargo correctamente el archivo\n"
      ],
      "metadata": {
        "id": "GQzvVUzl5Aot"
      },
      "execution_count": null,
      "outputs": []
    },
    {
      "cell_type": "markdown",
      "source": [
        "####Realiza un peprocesamiento básico para asegurarte de que los datos estén limpios y listos para su análisis."
      ],
      "metadata": {
        "id": "nKSbGPV1BpNW"
      }
    },
    {
      "cell_type": "code",
      "source": [
        "# Ver las primeras 10 filas del DataFrame\n"
      ],
      "metadata": {
        "id": "bEm1BUnJ8AGR"
      },
      "execution_count": null,
      "outputs": []
    },
    {
      "cell_type": "code",
      "source": [
        "# Información general del DataFrame\n"
      ],
      "metadata": {
        "id": "vZs1HZPM2W4n"
      },
      "execution_count": null,
      "outputs": []
    },
    {
      "cell_type": "code",
      "source": [
        "# Tipos de datos de las columnas\n"
      ],
      "metadata": {
        "id": "XjCASv5V8P6x"
      },
      "execution_count": null,
      "outputs": []
    },
    {
      "cell_type": "code",
      "source": [
        "# Estadísticas descriptivas del DataFrame\n"
      ],
      "metadata": {
        "id": "tC4D0Qpn2bmZ"
      },
      "execution_count": null,
      "outputs": []
    },
    {
      "cell_type": "code",
      "source": [
        "# Conteo de valores únicos en una columna específica\n"
      ],
      "metadata": {
        "id": "4gxngUET40n0"
      },
      "execution_count": null,
      "outputs": []
    },
    {
      "cell_type": "code",
      "source": [
        "# Valores únicos en una columna específica\n"
      ],
      "metadata": {
        "id": "TUV4S6QB8p72"
      },
      "execution_count": null,
      "outputs": []
    },
    {
      "cell_type": "code",
      "source": [
        "# Número de valores únicos en una columna específica\n"
      ],
      "metadata": {
        "id": "jUNBc7ZY86UI"
      },
      "execution_count": null,
      "outputs": []
    },
    {
      "cell_type": "code",
      "source": [
        "# Identificar valores nulos en todo el DataFrame\n"
      ],
      "metadata": {
        "id": "vkaadpAz9Zn1"
      },
      "execution_count": null,
      "outputs": []
    },
    {
      "cell_type": "code",
      "source": [
        "# Identificar valores nulos en una columna específica\n"
      ],
      "metadata": {
        "id": "4ZC_NsP59dM_"
      },
      "execution_count": null,
      "outputs": []
    },
    {
      "cell_type": "markdown",
      "source": [
        "##3. Exploración de Datos:"
      ],
      "metadata": {
        "id": "Ar_dG_Xa9nJ7"
      }
    },
    {
      "cell_type": "markdown",
      "source": [
        "* Calcula el total de ventas por producto y por tienda.\n",
        "* Calcula el promedio de ventas diarias por producto y por tienda.\n",
        "* Identifica los productos y tiendas con mayores y menores ventas."
      ],
      "metadata": {
        "id": "k69lnLZi9t7E"
      }
    },
    {
      "cell_type": "markdown",
      "source": [
        "###Calcula el total de ventas por producto y por tienda."
      ],
      "metadata": {
        "id": "kw99gKS4BtCb"
      }
    },
    {
      "cell_type": "code",
      "source": [
        "#Código\n"
      ],
      "metadata": {
        "id": "F2LXah1x_1h3"
      },
      "execution_count": null,
      "outputs": []
    },
    {
      "cell_type": "markdown",
      "source": [
        "###Calcula el promedio de ventas diarias por producto y por tienda."
      ],
      "metadata": {
        "id": "Bs-y7yKkDS44"
      }
    },
    {
      "cell_type": "code",
      "source": [
        "#Código\n"
      ],
      "metadata": {
        "id": "ujYK6CSZDUMC"
      },
      "execution_count": null,
      "outputs": []
    },
    {
      "cell_type": "code",
      "source": [
        "#Código\n"
      ],
      "metadata": {
        "id": "QN5Z5kr7HILX"
      },
      "execution_count": null,
      "outputs": []
    },
    {
      "cell_type": "markdown",
      "source": [
        "###Identifica los productos y tiendas con mayores y menores ventas."
      ],
      "metadata": {
        "id": "by9WDXMiENRL"
      }
    },
    {
      "cell_type": "code",
      "source": [
        "#Código\n"
      ],
      "metadata": {
        "id": "CT2azHqZEP30"
      },
      "execution_count": null,
      "outputs": []
    },
    {
      "cell_type": "code",
      "source": [
        "#Código\n"
      ],
      "metadata": {
        "id": "rsmR1GOvETkR"
      },
      "execution_count": null,
      "outputs": []
    },
    {
      "cell_type": "code",
      "source": [
        "#Código\n"
      ],
      "metadata": {
        "id": "zIqwC1mPG-KX"
      },
      "execution_count": null,
      "outputs": []
    },
    {
      "cell_type": "markdown",
      "source": [
        "##Manipulación de Datos:"
      ],
      "metadata": {
        "id": "Y3hRHhwHEd_t"
      }
    },
    {
      "cell_type": "markdown",
      "source": [
        "###Filtra los datos para mostrar solo las ventas de un producto específico."
      ],
      "metadata": {
        "id": "B_EaxZRXEgrJ"
      }
    },
    {
      "cell_type": "code",
      "source": [
        "#Código\n"
      ],
      "metadata": {
        "id": "eDXVOaSXEjJH"
      },
      "execution_count": null,
      "outputs": []
    },
    {
      "cell_type": "markdown",
      "source": [
        "###Filtra los datos para mostrar solo las ventas de una tienda específica."
      ],
      "metadata": {
        "id": "LGivMz8yEjjl"
      }
    },
    {
      "cell_type": "code",
      "source": [
        "#Código\n"
      ],
      "metadata": {
        "id": "Lkyjjv5cEl4E"
      },
      "execution_count": null,
      "outputs": []
    },
    {
      "cell_type": "markdown",
      "source": [
        "###Realiza operaciones de suma, resta, multiplicación y división en los datos para obtener estadísticas adicionales."
      ],
      "metadata": {
        "id": "2FeMn5ZtEmJD"
      }
    },
    {
      "cell_type": "code",
      "source": [
        "# Suma de las cantidades vendidas\n"
      ],
      "metadata": {
        "id": "wFbgx-trw7vt"
      },
      "execution_count": null,
      "outputs": []
    },
    {
      "cell_type": "code",
      "source": [
        "# Diferencia de precios entre productos (Beauty y Clothing)\n"
      ],
      "metadata": {
        "id": "AiB7zoavw8vF"
      },
      "execution_count": null,
      "outputs": []
    },
    {
      "cell_type": "code",
      "source": [
        "# Multiplicación del total de ventas por la cantidad vendida\n"
      ],
      "metadata": {
        "id": "muTgoFLJw_Kd"
      },
      "execution_count": null,
      "outputs": []
    },
    {
      "cell_type": "code",
      "source": [
        "# División del precio por unidad entre la cantidad\n"
      ],
      "metadata": {
        "id": "FaTn4BYdEow5"
      },
      "execution_count": null,
      "outputs": []
    },
    {
      "cell_type": "code",
      "source": [
        "#Print\n"
      ],
      "metadata": {
        "id": "mEZvHZnDFQ4k"
      },
      "execution_count": null,
      "outputs": []
    },
    {
      "cell_type": "markdown",
      "source": [
        "Recursos:\n",
        "\n",
        "https://codingdojolatam.la/cursos/flashcamp-intro-a-data-science-inacap-septiembre-2024/leccion/pandas-para-ciencia-de-datos-introduccion-a-pandas-2/\n",
        "\n",
        "https://codingdojolatam.la/cursos/flashcamp-intro-a-data-science-inacap-septiembre-2024/leccion/pandas-para-ciencia-de-datos-filtrado-y-slicing-en-pandas-2/"
      ],
      "metadata": {
        "id": "88mg3g3IxdDl"
      }
    },
    {
      "cell_type": "markdown",
      "source": [
        "HOLO"
      ],
      "metadata": {
        "id": "sqCXMkIXT3tf"
      }
    },
    {
      "cell_type": "markdown",
      "source": [
        "prueba main colab"
      ],
      "metadata": {
        "id": "CNcUEezYT09j"
      }
    },
    {
      "cell_type": "code",
      "source": [
        "import matplotlib.pyplot as plt"
      ],
      "metadata": {
        "id": "HuISzKM2T6Ez"
      },
      "execution_count": null,
      "outputs": []
    }
  ]
}