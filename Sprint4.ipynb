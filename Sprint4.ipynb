{
  "nbformat": 4,
  "nbformat_minor": 0,
  "metadata": {
    "colab": {
      "provenance": [],
      "authorship_tag": "ABX9TyNN3aQLM22F6nkLdA5s2ZPj",
      "include_colab_link": true
    },
    "kernelspec": {
      "name": "python3",
      "display_name": "Python 3"
    },
    "language_info": {
      "name": "python"
    }
  },
  "cells": [
    {
      "cell_type": "markdown",
      "metadata": {
        "id": "view-in-github",
        "colab_type": "text"
      },
      "source": [
        "<a href=\"https://colab.research.google.com/github/MInnaRo/ds-cd/blob/proyecto/Sprint4.ipynb\" target=\"_parent\"><img src=\"https://colab.research.google.com/assets/colab-badge.svg\" alt=\"Open In Colab\"/></a>"
      ]
    },
    {
      "cell_type": "code",
      "execution_count": null,
      "metadata": {
        "id": "zaft--bDGf8k"
      },
      "outputs": [],
      "source": [
        "import pandas as pd\n",
        "import matplotlib.pyplot as plt\n",
        "\n",
        "#a) Creamos un diccionario con claves los nombres de las columnas y valores las listas con los elementos de las columnas.\n",
        "datos = {\n",
        "  \"Calorias\": [420, 380, 390, 490, 300],\n",
        "  \"Tiempo\": [60, 40, 75, 55, 45]\n",
        "}\n",
        "# Creamos una lista con los días de la semana para utilizarla como índice\n",
        "semana = [\"L\", \"M\", \"X\", \"J\", \"V\"]\n",
        "# Creamos el DataFrame\n",
        "df = pd.DataFrame(datos, semana)\n",
        "print(df)\n",
        "\n",
        "\n",
        "#SALIDA\n",
        "# Calorias  Tiempo\n",
        "#L       420      60\n",
        "#M       380      40\n",
        "#X       390      75\n",
        "#J       490      55\n",
        "#V       300      45\n",
        "\n",
        "#b)\n",
        "# Calculamos la media.\n",
        "print('Medias:')\n",
        "print(df.mean())\n",
        "# Calculamos la mediana.\n",
        "print('Medianas:')\n",
        "print(df.median())\n",
        "# Calculamos la desviación típica.\n",
        "print('Desviaciones típicas:')\n",
        "print(df.std())\n",
        "\n",
        "#SALIDA\n",
        "#Medias:\n",
        "#Calorias    396.0\n",
        "#Tiempo       55.0\n",
        "#dtype: float64\n",
        "#Medianas:\n",
        "#Calorias    390.0\n",
        "#Tiempo       55.0\n",
        "#dtype: float64\n",
        "#Desviaciones típicas:\n",
        "#Calorias    68.774995\n",
        "#Tiempo      13.693064\n",
        "#dtype: float64\n",
        "\n",
        "\n",
        "#c) Añadimos una nueva columna comparando las calorisas consumidas por hora con 400 calorias por 60 minutos.\n",
        "df[\"Reto\"] = df.Calorias / df.Tiempo > 400 / 60\n",
        "print(df)\n",
        "\n",
        "#SALIDA\n",
        "#   Calorias  Tiempo   reto   Reto\n",
        "# L       420      60   True   True\n",
        "# M       380      40   True   True\n",
        "# X       390      75  False  False\n",
        "# J       490      55   True   True\n",
        "# V       300      45  False  False\n",
        "\n",
        "#d) Obtenemos la filas pares.\n",
        "df_filtrado = df.iloc[range(0, df.shape[0], 2)]\n",
        "# Obtenemos las filas con un número de calorías mayor de 400.\n",
        "df_filtrado = df_filtrado[df_filtrado.Calorias > 400]\n",
        "print(df_filtrado)\n",
        "\n",
        "#SALIDA\n",
        "# Calorias  Tiempo  reto\n",
        "#L       420      60  True\n",
        "\n",
        "#e) Calculamos los porcentajes de días en los que se ha cumplido el reto y los que no.\n",
        "print(df.Reto.value_counts(normalize = True) * 100)\n",
        "\n",
        "#SALIDA\n",
        "#True     60.0\n",
        "#False    40.0\n",
        "#Name: Reto, dtype: float64\n",
        "\n",
        "#f)\n",
        "fig, ax = plt.subplots()\n",
        "df.plot(y = 'Calorias', marker = \"+\", ax = ax)\n",
        "df.plot(y = 'Tiempo', marker = \"o\", ax = ax)\n",
        "plt.title('Evolución diaria')\n",
        "plt.show()\n",
        "\n",
        "#SALIDA\n",
        "#Grafico"
      ]
    }
  ]
}